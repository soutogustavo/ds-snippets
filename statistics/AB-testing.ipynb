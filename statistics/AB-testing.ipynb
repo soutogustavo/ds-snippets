{
 "cells": [
  {
   "cell_type": "markdown",
   "id": "76eb589b-ebb0-4d35-8ffc-95881c8c6669",
   "metadata": {},
   "source": [
    "# A/B Testing\n",
    "\n",
    "**A/B test** is a statistical experiment which you compare **two versions** of something such as a new data science feature, product, etc.\n",
    "\n",
    "So that you can define if a new version is better than the current one, you need to define a **(primary) metric**.<br>\n",
    "However, a **(Business) hypothesis** must be defined - this should focus on improving/\"fixing\" <br>a potential issue in the product or a new solution that will influence the **KPI** (**Key-Performace-Indicator**).\n",
    "\n",
    "You have to define a **null hypothesis** ($H_0$) and an **alternative hypothesis** ($H_a$). The following example depicts a scenario in a retail company:\n",
    "- $H_0$: Conversion rates are **equal** between mobile and desktop.\n",
    "- $H_a$: Conversion rates are **NOT equal** between mobile and desktop.\n",
    "\n",
    "The idea is to **randomly select users** and assign them into **two groups**:\n",
    "- **Control**: this shows the original/current version (e.g. feature, webpage, etc.).\n",
    "- **Treatment**: sees the new version.\n",
    "\n",
    "One of the frequent questions is **how many data sample do I need?**<br>\n",
    "We use **Power Analysis** to calculate the minimum sample size.\n",
    "\n",
    "In summary, the **Power Analysis** makes assumption of model parameters: **Power of Test**, **Significance Level**, and **Minimum Detectable Effect**. You can pick one of the online calculators to define the minimum sample size. \n",
    "\n",
    "**Power analysis** parameters:\n",
    "- $\\beta$: probability of type II error (i.e., common to pick 80%).\n",
    "- (1-$\\beta$): power of the test.\n",
    "- $\\alpha$: probability of Type I error - Significance Level (i.e., common to pick 5%).\n",
    "- $\\delta$: Minimum Detectable Effect.\n",
    "\n",
    "**Type of errors**:\n",
    "- I: Reject $H_0$, when it's *True* - This is a **False Positive (FP)**.\n",
    "- II Accept $H_0$,, when it's *False* - This is a **False Negative (FN)**.\n",
    "\n",
    "Also, the **duration of the test** is determined by the problem we want to analyze. Let's assume that we want to run an A/B test for an e-commerce, and we evaluate a new features related to visitors/customer in our page. A formular to calculate the duration is defined as follows:\n",
    "\n",
    "$duration = \\frac{N}{num visitors per days}$, <br><br>where $N$ is the **minimum sample size**, and it's defined using the **Power Analysis**.\n",
    "\n",
    "Note that **we can't stop the experiment earlier** (i.e. novelty effect) or if we achieve a statistical significance before the end of the experiment (i.e. frequently called *p-hacking*), <br>or even let it running more days than the one defined by the above formular (i.e. this might cause **maturation effects**)."
   ]
  },
  {
   "cell_type": "markdown",
   "id": "2550ffd0-027b-4d8b-8eb7-6c7b9c0f90f9",
   "metadata": {},
   "source": [
    "### Analyzing A/B tests results\n",
    "\n",
    "Once we have defined the test, ran it, and collect the data. We are ready to analyze the test results. <br>\n",
    "Therefore, we choose an appropriate statistical test. I'm going to summarize a few tests below:\n",
    "\n",
    "- **t-test**: compares means between two groups.\n",
    "- **z-test**: compares means and proportions between two large groups.\n",
    "- **Chi-square**: tests for association between categorical variables.\n",
    "- **ANOVA**: compares means across 3+ groups.\n"
   ]
  },
  {
   "cell_type": "markdown",
   "id": "a821aa9e-0d40-4815-813d-0cdfdb064a00",
   "metadata": {},
   "source": [
    "### Cases\n",
    "\n",
    "Define hypothesis tests and implement the tests in Python."
   ]
  },
  {
   "cell_type": "markdown",
   "id": "08d31327-0269-414c-aa53-9f6d7f419254",
   "metadata": {},
   "source": [
    "#### Case 01: Conversion rate\n",
    "\n",
    "**Hypothesis**: A new product detail page layout increases the add-to-cart conversion rate.\n",
    "\n",
    "1. Defining hypothesis:\n",
    "    - $H_0$: the new layout has **no effect** on conversion.\n",
    "    - $H_a$: the new layout **increases** conversion."
   ]
  },
  {
   "cell_type": "code",
   "execution_count": 72,
   "id": "e489d1da-9e1b-41ff-a1a6-4f53dd4cd108",
   "metadata": {},
   "outputs": [
    {
     "data": {
      "text/html": [
       "<div>\n",
       "<style scoped>\n",
       "    .dataframe tbody tr th:only-of-type {\n",
       "        vertical-align: middle;\n",
       "    }\n",
       "\n",
       "    .dataframe tbody tr th {\n",
       "        vertical-align: top;\n",
       "    }\n",
       "\n",
       "    .dataframe thead th {\n",
       "        text-align: right;\n",
       "    }\n",
       "</style>\n",
       "<table border=\"1\" class=\"dataframe\">\n",
       "  <thead>\n",
       "    <tr style=\"text-align: right;\">\n",
       "      <th></th>\n",
       "      <th>mean</th>\n",
       "      <th>count</th>\n",
       "      <th>sum</th>\n",
       "      <th>conversion_rate</th>\n",
       "    </tr>\n",
       "    <tr>\n",
       "      <th>group</th>\n",
       "      <th></th>\n",
       "      <th></th>\n",
       "      <th></th>\n",
       "      <th></th>\n",
       "    </tr>\n",
       "  </thead>\n",
       "  <tbody>\n",
       "    <tr>\n",
       "      <th>Control</th>\n",
       "      <td>0.1086</td>\n",
       "      <td>5000</td>\n",
       "      <td>543</td>\n",
       "      <td>0.1086</td>\n",
       "    </tr>\n",
       "    <tr>\n",
       "      <th>Treatment</th>\n",
       "      <td>0.1538</td>\n",
       "      <td>5000</td>\n",
       "      <td>769</td>\n",
       "      <td>0.1538</td>\n",
       "    </tr>\n",
       "  </tbody>\n",
       "</table>\n",
       "</div>"
      ],
      "text/plain": [
       "             mean  count  sum  conversion_rate\n",
       "group                                         \n",
       "Control    0.1086   5000  543           0.1086\n",
       "Treatment  0.1538   5000  769           0.1538"
      ]
     },
     "metadata": {},
     "output_type": "display_data"
    },
    {
     "name": "stdout",
     "output_type": "stream",
     "text": [
      "Reject null hyphotesis (H0) :: There's a statistically difference in conversion rates.\n",
      "\n"
     ]
    }
   ],
   "source": [
    "import numpy as np\n",
    "import pandas as pd\n",
    "import statsmodels.api as sm\n",
    "\n",
    "# Assuming we have a minimum sample 10000 visitors\n",
    "# Each groups should have 5000 visitor\n",
    "# Control conversion rate is 10%\n",
    "# Treatment conversion rate is 15%\n",
    "\n",
    "# Parameters:\n",
    "min_sample_size = 10000\n",
    "control_conv_rate = 0.1\n",
    "treatment_conv_rate = 0.15\n",
    "\n",
    "# Groups\n",
    "control = np.random.binomial(\n",
    "    n=1, p=control_conv_rate, size=int(min_sample_size/2))\n",
    "treatment = np.random.binomial(\n",
    "    n=1, p=treatment_conv_rate, size=int(min_sample_size/2))\n",
    "\n",
    "# (optional) create a Pandas DataFrame\n",
    "c1_df = pd.DataFrame({\n",
    "    \"group\": len(control) * [\"Control\"] + len(treatment) * [\"Treatment\"],\n",
    "    \"converted\": np.concatenate([control, treatment])\n",
    "})\n",
    "summary_c1 = c1_df.groupby(\"group\")[\"converted\"].agg([\"mean\", \"count\", \"sum\"])\n",
    "summary_c1[\"conversion_rate\"] = summary_c1[\"sum\"] / summary_c1[\"count\"]\n",
    "display(summary_c1)\n",
    "\n",
    "# Using z-test for proportions\n",
    "# We have a large dataset (>30 points)\n",
    "# 'Std' of the population is not know, but since we have a large sample,\n",
    "#   we can have a good approximation.\n",
    "successes = np.array([control.sum(), treatment.sum()])\n",
    "nobs = np.array([len(control), len(treatment)])\n",
    "z_stat, p_val = sm.stats.proportions_ztest(\n",
    "    count=successes, nobs=nobs, alternative=\"smaller\")\n",
    "\n",
    "alpha = 0.05\n",
    "if p_val <= alpha:\n",
    "    print(\"Reject null hyphotesis (H0) :: \"+\n",
    "            \"There's a statistically difference in conversion rates.\\n\")\n",
    "else:\n",
    "    print(\"Fail to reject the null hypothesis (H0) :: \"+\n",
    "            \"There's not difference in conversion rates.\\n\")"
   ]
  },
  {
   "cell_type": "markdown",
   "id": "cc9289ab-4969-44ee-9f62-f01426b353e1",
   "metadata": {},
   "source": [
    "**[Remarks]** \n",
    "- I use *smaller* in the proportions_ztest because I expect treatment > control."
   ]
  },
  {
   "cell_type": "markdown",
   "id": "ead7c7e6-d0ec-4e1e-8411-1520335e76d4",
   "metadata": {},
   "source": [
    "#### Case 02: App vs Website Revenue\n",
    "\n",
    "**Hypothesis**: is the average revenue per user (ARPU) higher for mobile app users than website users?\n",
    "\n",
    "1. Defining hypothesis:\n",
    "    - $H_0$: there's **no difference** between mobile and desktop.\n",
    "    - $H_a$: there's a **different** in ARPU between mobile and desktop."
   ]
  },
  {
   "cell_type": "code",
   "execution_count": 113,
   "id": "153a074a-4acc-42a1-b2df-55e0695c5031",
   "metadata": {},
   "outputs": [
    {
     "data": {
      "text/html": [
       "<div>\n",
       "<style scoped>\n",
       "    .dataframe tbody tr th:only-of-type {\n",
       "        vertical-align: middle;\n",
       "    }\n",
       "\n",
       "    .dataframe tbody tr th {\n",
       "        vertical-align: top;\n",
       "    }\n",
       "\n",
       "    .dataframe thead th {\n",
       "        text-align: right;\n",
       "    }\n",
       "</style>\n",
       "<table border=\"1\" class=\"dataframe\">\n",
       "  <thead>\n",
       "    <tr style=\"text-align: right;\">\n",
       "      <th></th>\n",
       "      <th>count</th>\n",
       "      <th>mean</th>\n",
       "      <th>std</th>\n",
       "      <th>min</th>\n",
       "      <th>25%</th>\n",
       "      <th>50%</th>\n",
       "      <th>75%</th>\n",
       "      <th>max</th>\n",
       "    </tr>\n",
       "    <tr>\n",
       "      <th>group</th>\n",
       "      <th></th>\n",
       "      <th></th>\n",
       "      <th></th>\n",
       "      <th></th>\n",
       "      <th></th>\n",
       "      <th></th>\n",
       "      <th></th>\n",
       "      <th></th>\n",
       "    </tr>\n",
       "  </thead>\n",
       "  <tbody>\n",
       "    <tr>\n",
       "      <th>app</th>\n",
       "      <td>450.0</td>\n",
       "      <td>44.84</td>\n",
       "      <td>8.81</td>\n",
       "      <td>17.33</td>\n",
       "      <td>39.29</td>\n",
       "      <td>44.81</td>\n",
       "      <td>50.70</td>\n",
       "      <td>73.68</td>\n",
       "    </tr>\n",
       "    <tr>\n",
       "      <th>website</th>\n",
       "      <td>450.0</td>\n",
       "      <td>41.89</td>\n",
       "      <td>9.96</td>\n",
       "      <td>5.77</td>\n",
       "      <td>35.83</td>\n",
       "      <td>41.79</td>\n",
       "      <td>48.38</td>\n",
       "      <td>66.61</td>\n",
       "    </tr>\n",
       "  </tbody>\n",
       "</table>\n",
       "</div>"
      ],
      "text/plain": [
       "         count   mean   std    min    25%    50%    75%    max\n",
       "group                                                         \n",
       "app      450.0  44.84  8.81  17.33  39.29  44.81  50.70  73.68\n",
       "website  450.0  41.89  9.96   5.77  35.83  41.79  48.38  66.61"
      ]
     },
     "metadata": {},
     "output_type": "display_data"
    },
    {
     "data": {
      "image/png": "[encoded data removed]",
      "text/plain": [
       "<Figure size 640x480 with 1 Axes>"
      ]
     },
     "metadata": {},
     "output_type": "display_data"
    },
    {
     "name": "stdout",
     "output_type": "stream",
     "text": [
      "T-Statistics: -4.71\n",
      "P-val: 2.84e-06\n",
      "\n",
      "Reject null hypothesis (H0) :: This means that there's a difference in the ARPU.\n",
      "\n"
     ]
    }
   ],
   "source": [
    "import seaborn as sns\n",
    "from scipy.stats import ttest_ind\n",
    "\n",
    "# Control = website\n",
    "# Treatment = app\n",
    "\n",
    "# Parameters\n",
    "n_size = 900\n",
    "n_c = int(n_size/2)\n",
    "n_t = int(n_size/2)\n",
    "c_mean = 42\n",
    "t_mean = 45\n",
    "c_std = 10\n",
    "t_std = 9\n",
    "\n",
    "# Revenue in Euros\n",
    "control = np.random.normal(loc=c_mean, scale=c_std, size=n_c)\n",
    "treatment = np.random.normal(loc=t_mean, scale=t_std, size=n_t)\n",
    "\n",
    "summary_c2 = pd.DataFrame({\n",
    "    \"group\": n_c*[\"website\"] + n_t*[\"app\"],\n",
    "    \"arpu\": np.concatenate([control, treatment])\n",
    "})\n",
    "summary_c2 = summary_c2.groupby(\"group\")[\"arpu\"].describe().round(2)\n",
    "display(summary_c2)\n",
    "\n",
    "sns.boxplot(x=\"group\", y=\"arpu\", data=df2)\n",
    "plt.title(\"Average Revenuer per User by group\")\n",
    "plt.xlabel(\"Group\")\n",
    "plt.ylabel(\"ARPU (Eur)\")\n",
    "plt.show()\n",
    "\n",
    "t_stat, p_val = ttest_ind(control, treatment)\n",
    "print(f\"T-Statistics: {t_stat:.3}\")\n",
    "print(f\"P-val: {p_val:.4}\\n\")\n",
    "\n",
    "alpha = 0.05\n",
    "if p_val <= alpha:\n",
    "    print(f\"Reject null hypothesis (H0) :: \"+\n",
    "          f\"This means that there's a difference in the ARPU.\\n\")\n",
    "else:\n",
    "    print(f\"Fail reject null hypothesis (H0) :: \"+\n",
    "          f\"This means that there's NO difference in the ARPU.\\n\")"
   ]
  },
  {
   "cell_type": "markdown",
   "id": "63468a85-7f99-4fb5-bc90-f0f017512725",
   "metadata": {},
   "source": [
    "...\n",
    "\n",
    "*What if we want to know the **confidence interval (CI)** for the difference between the means of the two groups?*\n",
    "\n",
    "In summary, **CI** is range of values that we are sure out **true value** lies in.\n",
    "\n",
    "For the 95% CI is calculated as: <br>\n",
    "$CI = mean \\;\\; difference \\pm 1.96 * SE$, where:\n",
    "- 1.96 comes from the *z-distribution* for 95% CI.\n",
    "\n",
    "**SE** means **standard error**, and it quantifies **how much variation we would expect in the mean difference** if we repeated the experiment.<br>\n",
    "For two sided independent samples, we calculate the SE as follows: <br>\n",
    "\n",
    "$SE = \\sqrt{\\frac{s^2_1}{n_1} + \\frac{s^2_2}{n_2}}$, where:\n",
    "- $\\frac{s^2_1}{n_1} + \\frac{s^2_2}{n_2}$: variances of control and test\n",
    "- $n_1,n_2$: sample size of control and treatment\n",
    "\n",
    "\n",
    "If the CI doesn’t contain 0, it supports the idea that the difference is statistically significant. <br>\n",
    "For instance:\n",
    "- (0.15%, 0.55%) → Positive difference, likely significant\n",
    "- (-0.02%, 0.30%) → Might not be significant\n",
    "\n",
    "Let's take the above case, and compute the CI."
   ]
  },
  {
   "cell_type": "code",
   "execution_count": 152,
   "id": "5d3a0523-b996-4f51-bb73-fbc8d18249a1",
   "metadata": {},
   "outputs": [
    {
     "name": "stdout",
     "output_type": "stream",
     "text": [
      "Difference mean: 2.95 Euros\n",
      "95% Confidence interval: 1.73 Eur and 4.18 Eur\n"
     ]
    }
   ],
   "source": [
    "# CI for Case 2\n",
    "\n",
    "diff_mean = np.mean(treatment) - np.mean(control)\n",
    "se = np.sqrt( (np.var(treatment)/n_t) + \n",
    "              (np.var(control)/n_c) )\n",
    "\n",
    "ci_low, ci_high = diff_mean - 1.96*se, diff_mean + 1.96*se\n",
    "\n",
    "print(f\"Difference mean: {diff_mean:.2f} Euros\")\n",
    "print(f\"95% Confidence interval: {ci_low:.2f} Eur and {ci_high:.2f} Eur\")"
   ]
  },
  {
   "cell_type": "markdown",
   "id": "33161801-4651-424a-aaa8-f73a4e72928f",
   "metadata": {},
   "source": [
    "**[Remarks]**\n",
    "- The **app generates €2.95 more on average per user** than the website, with high confidence that the true **difference lies between €1.73 and €4.18**.\n",
    "- **Business Insight**: App users may be more engaged (push notifications, smoother checkout). This supports prioritizing app user experience or incentivizing app installs."
   ]
  },
  {
   "cell_type": "markdown",
   "id": "76c11d41-7983-43e7-a42f-294bf445477f",
   "metadata": {},
   "source": [
    "___"
   ]
  }
 ],
 "metadata": {
  "kernelspec": {
   "display_name": "exploring",
   "language": "python",
   "name": "exploring"
  },
  "language_info": {
   "codemirror_mode": {
    "name": "ipython",
    "version": 3
   },
   "file_extension": ".py",
   "mimetype": "text/x-python",
   "name": "python",
   "nbconvert_exporter": "python",
   "pygments_lexer": "ipython3",
   "version": "3.12.2"
  }
 },
 "nbformat": 4,
 "nbformat_minor": 5
}
