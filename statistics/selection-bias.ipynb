{
 "cells": [
  {
   "cell_type": "markdown",
   "id": "6fa999b3-c6f6-483f-bd09-9032ee4a3a26",
   "metadata": {},
   "source": [
    "# Selection Bias\n",
    "\n",
    "## Remarks\n",
    "- **Bias** is systematically error - produced by the **measurement** or **sampling process**.\n",
    "- When the data used for analysis or modelling is **not representative** of the population, this leads to **Skewed** or **Biased** results.\n",
    "- Assuming that we train a model with **non-representative** data, it may perform pooly in the real world."
   ]
  },
  {
   "cell_type": "markdown",
   "id": "73522234-b74b-45ae-a744-279cbcb34ece",
   "metadata": {},
   "source": [
    "## Implementation\n",
    "\n",
    "Let's implement an example of selection bias as well as training a model with non-representative data.\n",
    "\n",
    "**Context**: <br>\n",
    "A survey was conducted to understand the average height of the students\n",
    "of a high-school in Berlin. <br>\n",
    "Thus, we are going to calculate the average height of the students\n",
    "as well as simulate <br> \n",
    "an selection bias by conducting the survey only with students that are part of the basketball team. <br>\n",
    "For this case scenario, we assume they are tall people."
   ]
  },
  {
   "cell_type": "code",
   "execution_count": 74,
   "id": "90fb2652-48c9-4f1c-8b49-bcaa210cbe04",
   "metadata": {},
   "outputs": [
    {
     "name": "stdout",
     "output_type": "stream",
     "text": [
      "True Population Mean Height: 165.11 cm\n",
      "Biased Sample Mean Height: 194.8 cm\n"
     ]
    }
   ],
   "source": [
    "import numpy as np\n",
    "\n",
    "#. Define population\n",
    "population = np.random.normal(165, scale=10, size=1500)\n",
    "\n",
    "#. Sample students\n",
    "num_students = 200\n",
    "sample_students = random.choices(population, k=num_students)\n",
    "\n",
    "#. Students that are in the basketball team.\n",
    "biased_sample = np.random.normal(loc=195, scale=3, size=num_students)\n",
    "\n",
    "#. Calculate avg. heights\n",
    "popu_avg_height = round(np.mean(sample_students), 2)\n",
    "sample_avg_height = round(np.mean(biased_sample), 2)\n",
    "\n",
    "print(f\"True Population Mean Height: { popu_avg_height } cm\")\n",
    "print(f\"Biased Sample Mean Height: { sample_avg_height } cm\")"
   ]
  },
  {
   "cell_type": "markdown",
   "id": "b6f5327a-9d3b-47b3-8ffa-617019c401d8",
   "metadata": {},
   "source": [
    "**Remarks**\n",
    "\n",
    "- This is a simple example that shows that we must be careful when sampling data.\n",
    "- Make sure to identify possible groups in the data and include samples from each group (i.e. Strata). Thus you keep the population representativeness."
   ]
  },
  {
   "cell_type": "markdown",
   "id": "4c39c25d-61c7-496a-8cd9-f8c7bbbd7f0d",
   "metadata": {},
   "source": [
    "**Context**: <br>\n",
    "The goal is to predict house prices, but we are going to use a biased training dataset. <br>\n",
    "In this cases, we train the model only with hours from urban areas. However, we perform <br>\n",
    "prediction on houses from rural areas. This presents how the non-representativeness can <br>\n",
    "affect a machine learning model. "
   ]
  },
  {
   "cell_type": "code",
   "execution_count": 89,
   "id": "e4c131c3-9949-44d7-9b92-29eaec1bc9c3",
   "metadata": {},
   "outputs": [
    {
     "name": "stdout",
     "output_type": "stream",
     "text": [
      "Mean Squared Error (MSE) on Rural data: 30180720960.17\n"
     ]
    }
   ],
   "source": [
    "import pandas as pd\n",
    "from sklearn.linear_model import LinearRegression\n",
    "from sklearn.metrics import mean_squared_error\n",
    "\n",
    "np.random.seed(42)\n",
    "\n",
    "#. Houses in the urban area\n",
    "num_houses = 200\n",
    "urban_data = pd.DataFrame({\n",
    "    \"Sqm\": np.random.randint(80, 300, num_houses),\n",
    "    \"Price\": np.random.randint(100000, 500000, num_houses)\n",
    "})\n",
    "\n",
    "#. Houses in the rural area\n",
    "num_houses = 30 # Test set\n",
    "rural_data = pd.DataFrame({\n",
    "    \"Sqm\": np.random.randint(120, 280, num_houses),\n",
    "    \"Price\": np.random.randint(50000, 200000, num_houses)\n",
    "})\n",
    "\n",
    "#. Training data\n",
    "X_train = urban_data[[\"Sqm\"]]\n",
    "y_train = urban_data[\"Price\"]\n",
    "\n",
    "#. Test data\n",
    "X_test = rural_data[[\"Sqm\"]]\n",
    "y_test = rural_data[\"Price\"]\n",
    "\n",
    "#. Build model\n",
    "lr_model = LinearRegression()\n",
    "lr_model.fit(X_train, y_train)\n",
    "\n",
    "#. Predict price house\n",
    "price_pred = lr_model.predict(X_test)\n",
    "\n",
    "#. Evaluate predictions\n",
    "mse = mean_squared_error(y_test, price_pred)\n",
    "\n",
    "print(f\"Mean Squared Error (MSE) on Rural data: { round(mse, 2) }\")"
   ]
  },
  {
   "cell_type": "markdown",
   "id": "74651bf0-fa07-4c47-a44c-a6fb68e88d1b",
   "metadata": {},
   "source": [
    "**Remarks**\n",
    "\n",
    "- As expected, the models failed to generalize to rural data due to selection bias in the training dataset.\n",
    "- The high prediction errors results of this example shows what may occur when we fail in getting the data representative correctly.\n",
    "\n",
    "**Other examples**\n",
    "\n",
    "- A company wants to conduct a survey about its products but it only considers responds from the contact formular fron company's website. it doesn't include responds from letters or even email.\n",
    "\n",
    "**Avoid selection bias?**\n",
    "\n",
    "- Use **stratified sampling** to select the same proportion of each group.\n",
    "- Make sure to run a **fair random sampling** (from the population).\n",
    "- Handle missing data and collect diverse data. "
   ]
  }
 ],
 "metadata": {
  "kernelspec": {
   "display_name": "Python [conda env:lab]",
   "language": "python",
   "name": "conda-env-lab-py"
  },
  "language_info": {
   "codemirror_mode": {
    "name": "ipython",
    "version": 3
   },
   "file_extension": ".py",
   "mimetype": "text/x-python",
   "name": "python",
   "nbconvert_exporter": "python",
   "pygments_lexer": "ipython3",
   "version": "3.12.2"
  }
 },
 "nbformat": 4,
 "nbformat_minor": 5
}
