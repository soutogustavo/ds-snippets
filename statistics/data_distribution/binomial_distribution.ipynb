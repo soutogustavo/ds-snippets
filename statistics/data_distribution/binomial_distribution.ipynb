{
 "cells": [
  {
   "cell_type": "markdown",
   "id": "62e40bf2-0749-4726-b274-587776fec637",
   "metadata": {},
   "source": [
    "# Binomial Distribution\n",
    "\n",
    "It models the number of **successes** in a fixed number of **independent trials**, where each trial has the same **probability of success**.\n",
    "\n",
    "We can summary it as:\n",
    "- Fixed number of trials *n*.\n",
    "- Each trials has only two possible outcomes: success (1) or failure (0).\n",
    "- Probability of success *p* is the same for each trial.\n",
    "\n",
    "The **Probability Mass Function** (PMF) is as follows:\n",
    "\n",
    "$P(X=k) = \\binom{n}{k}p^k (1-p)^(n-k)$, where \n",
    "\n",
    "- ***n***: number of trials\n",
    "- ***k***: number of success\n",
    "- ***p***: probability of success in each trial\n",
    "- $\\binom{n}{k} = \\frac{n!}{k!(n-k)!}$: binomial coefficient\n",
    "\n",
    "> This gives you the **probability** of getting **exactly k successes in n independent trials**.\n",
    "\n",
    "**Examples of Binomial Distribution**:\n",
    "- Coin flips\n",
    "- Email response\n",
    "- Quality control\n",
    "\n",
    "**When should I use Binomial?**\n",
    "- Trials are independent.\n",
    "- Two outcomes per trial (success/failure; click/no click).\n",
    "- Sample probability of success for each trial.\n",
    "- Fixed number of trials."
   ]
  },
  {
   "cell_type": "code",
   "execution_count": 26,
   "id": "b890bd76-7508-4806-9cb9-42baeeb3ea59",
   "metadata": {},
   "outputs": [],
   "source": [
    "import numpy as np\n",
    "import matplotlib.pyplot as plt"
   ]
  },
  {
   "cell_type": "markdown",
   "id": "47d79011-265a-4815-89f9-44864a1447e5",
   "metadata": {},
   "source": [
    "## Draw samples from a **binomial distribution** \n",
    "\n",
    "Also, let's plot its distribution and show the dataset."
   ]
  },
  {
   "cell_type": "code",
   "execution_count": 125,
   "id": "69e6a255-b036-4c86-a5a0-5697af417945",
   "metadata": {},
   "outputs": [
    {
     "data": {
      "image/png": "[encoded data removed]",
      "text/plain": [
       "<Figure size 640x480 with 1 Axes>"
      ]
     },
     "metadata": {},
     "output_type": "display_data"
    },
    {
     "name": "stdout",
     "output_type": "stream",
     "text": [
      "Sample dataset:\n"
     ]
    },
    {
     "data": {
      "text/plain": [
       "array([ 7,  9,  7,  5,  6,  5,  6,  7,  7,  6,  6,  8,  3,  7,  8,  3,  5,\n",
       "        6,  5,  4,  3,  4,  8,  4,  7,  6,  7,  9,  7,  5,  8,  6,  3,  6,\n",
       "        5,  8,  3,  5,  8,  6,  6,  6,  7,  6,  5, 10,  8,  7,  5,  6,  2,\n",
       "        4,  8,  8,  3,  7, 10,  8,  3,  4,  9, 10,  9,  6,  7,  6,  5,  8,\n",
       "        6,  3,  9,  7,  6,  7,  5,  6,  9,  5,  4,  8,  7,  7,  6,  7,  4,\n",
       "        8,  4,  6, 10,  8,  4,  6,  8,  6,  5,  6,  6,  4,  7,  7])"
      ]
     },
     "metadata": {},
     "output_type": "display_data"
    }
   ],
   "source": [
    "# Parameters\n",
    "n = 20\n",
    "p = 0.3\n",
    "size = 100\n",
    "binomial_data = np.random.binomial(n=n, p=p, size=size)\n",
    "\n",
    "ax = plt.hist(binomial_data, bins=30)\n",
    "plt.title(f\"Binomial Distribution (n={n}, p={p})\")\n",
    "plt.xlabel(\"Number of Successes\")\n",
    "plt.ylabel(\"Number of Trials\")\n",
    "plt.show()\n",
    "\n",
    "print(\"Sample dataset:\")\n",
    "display(binomial_data)"
   ]
  },
  {
   "cell_type": "markdown",
   "id": "38497cef-ae54-42e9-956d-b0d9d95817b6",
   "metadata": {},
   "source": [
    "**Explanation**: \n",
    "\n",
    "Each value in the dataset is equal to the **number of successes over the n trials**. For instance, the first value in the dataset is 7, this means we have 7 successes over 20 trials."
   ]
  },
  {
   "cell_type": "markdown",
   "id": "78592073-1396-40d9-b462-c49f212cc19d",
   "metadata": {},
   "source": [
    "## Email Campaign\n",
    "\n",
    "Let's assume that we are running a campaign where:\n",
    "- 100 emails were sent.\n",
    "- The probability of response the 7% (p=0.07)\n",
    "\n",
    "Then, **what's the probability that exactly 5 people respond?**\n",
    "\n",
    "In this case, I'm going to use the package **Scipy**."
   ]
  },
  {
   "cell_type": "code",
   "execution_count": 225,
   "id": "1d9b3fc0-cc00-40fe-8b42-d259dca651ea",
   "metadata": {},
   "outputs": [
    {
     "name": "stdout",
     "output_type": "stream",
     "text": [
      "P(exactly 5 responses out of 100): 0.1283\n"
     ]
    }
   ],
   "source": [
    "from scipy.stats import binom\n",
    "\n",
    "# Parameters\n",
    "n = 100\n",
    "p = 0.07\n",
    "k = 5\n",
    "\n",
    "respond_prob = binom.pmf(k=k, n=n, p=p)\n",
    "print(f\"P(exactly {k} responses out of {n}): {respond_prob:.4f}\")"
   ]
  },
  {
   "cell_type": "markdown",
   "id": "fa68be8e-7d45-47a7-96ac-50f707ab9615",
   "metadata": {},
   "source": [
    "It is import to knw that as **n** gets large, the **binomial distribution becomes extremely peaked around its expected value** (i.e. n*p), <br>\n",
    "thus the probabilities for specific *k* values become **very small**. However, if you need to have a large *n*, you might consider:\n",
    "\n",
    "- Probability of a range :: binom.cdf(upper, n, p) - binom.cdf(lower-1, n, p)\n",
    "\n",
    "\\* cdf = cumulative probabilities"
   ]
  },
  {
   "cell_type": "code",
   "execution_count": 231,
   "id": "c7bc9edc-1571-471c-814c-f46369b93fd1",
   "metadata": {},
   "outputs": [
    {
     "name": "stdout",
     "output_type": "stream",
     "text": [
      "P(at most 5 responses): 0.2914\n"
     ]
    }
   ],
   "source": [
    "# The CDF can be calculated as follows:\n",
    "cdf_prob = binom.cdf(k=k,n=n,p=p)\n",
    "print(f\"P(at most {k} responses): {cdf_prob:.4f}\")"
   ]
  },
  {
   "cell_type": "markdown",
   "id": "2da01ed3-a496-4562-8cd4-eb1dd27debd9",
   "metadata": {},
   "source": [
    "In summary... \n",
    "\n",
    "- pmf(k) calculates the **probability of exactly k successes**.\n",
    "- cdf(k) calculates the **probability of ≤ k successes**."
   ]
  },
  {
   "cell_type": "markdown",
   "id": "745e4cf3-100e-4161-8690-aa589dfcf00b",
   "metadata": {},
   "source": [
    "___"
   ]
  }
 ],
 "metadata": {
  "kernelspec": {
   "display_name": "exploring",
   "language": "python",
   "name": "exploring"
  },
  "language_info": {
   "codemirror_mode": {
    "name": "ipython",
    "version": 3
   },
   "file_extension": ".py",
   "mimetype": "text/x-python",
   "name": "python",
   "nbconvert_exporter": "python",
   "pygments_lexer": "ipython3",
   "version": "3.12.2"
  }
 },
 "nbformat": 4,
 "nbformat_minor": 5
}
