{
 "cells": [
  {
   "cell_type": "markdown",
   "id": "085b15fb-e711-43d0-a14e-e64e0cc33272",
   "metadata": {},
   "source": [
    "# Confusion Matrix\n",
    "\n",
    "## Remarks\n",
    "- It evaluates the performance of a classification model by comparing the predicted labels agains the actual ones.\n",
    "- We can breakdown confusion matrix into measurements such as **accuracy**, **precision**, **recall**, and **f1-score**.\n",
    "- **Precision** is typically used along with **recall**.\n",
    "- **F1-score** is the *harmonic mean* of **precision** and **recall** - it gives more weight <br>to low value, that means, the classifier get a high **f1-score** if both **precision** and **recall** are high."
   ]
  },
  {
   "cell_type": "markdown",
   "id": "6dc90d32-0828-4ecf-a5d2-b7a9a29e0934",
   "metadata": {},
   "source": [
    "## Implementation\n",
    "\n",
    "Predict whether customers will default on their credit card paymentes (Binary classification). <br>\n",
    "Generate dummy data with only 25% default rate."
   ]
  },
  {
   "cell_type": "code",
   "execution_count": 123,
   "id": "9818e8b9-5836-4365-b6e9-e05eca6d72ce",
   "metadata": {},
   "outputs": [
    {
     "data": {
      "text/html": [
       "<div>\n",
       "<style scoped>\n",
       "    .dataframe tbody tr th:only-of-type {\n",
       "        vertical-align: middle;\n",
       "    }\n",
       "\n",
       "    .dataframe tbody tr th {\n",
       "        vertical-align: top;\n",
       "    }\n",
       "\n",
       "    .dataframe thead th {\n",
       "        text-align: right;\n",
       "    }\n",
       "</style>\n",
       "<table border=\"1\" class=\"dataframe\">\n",
       "  <thead>\n",
       "    <tr style=\"text-align: right;\">\n",
       "      <th></th>\n",
       "      <th>income</th>\n",
       "      <th>credit_score</th>\n",
       "      <th>age</th>\n",
       "      <th>default</th>\n",
       "    </tr>\n",
       "  </thead>\n",
       "  <tbody>\n",
       "    <tr>\n",
       "      <th>0</th>\n",
       "      <td>57450.712295</td>\n",
       "      <td>719.967772</td>\n",
       "      <td>33.248217</td>\n",
       "      <td>1</td>\n",
       "    </tr>\n",
       "    <tr>\n",
       "      <th>1</th>\n",
       "      <td>47926.035482</td>\n",
       "      <td>696.231684</td>\n",
       "      <td>38.554813</td>\n",
       "      <td>1</td>\n",
       "    </tr>\n",
       "    <tr>\n",
       "      <th>2</th>\n",
       "      <td>59715.328072</td>\n",
       "      <td>652.981518</td>\n",
       "      <td>32.075801</td>\n",
       "      <td>0</td>\n",
       "    </tr>\n",
       "    <tr>\n",
       "      <th>3</th>\n",
       "      <td>72845.447846</td>\n",
       "      <td>617.653161</td>\n",
       "      <td>36.920385</td>\n",
       "      <td>1</td>\n",
       "    </tr>\n",
       "    <tr>\n",
       "      <th>4</th>\n",
       "      <td>46487.699379</td>\n",
       "      <td>684.911166</td>\n",
       "      <td>21.063853</td>\n",
       "      <td>0</td>\n",
       "    </tr>\n",
       "  </tbody>\n",
       "</table>\n",
       "</div>"
      ],
      "text/plain": [
       "         income  credit_score        age  default\n",
       "0  57450.712295    719.967772  33.248217        1\n",
       "1  47926.035482    696.231684  38.554813        1\n",
       "2  59715.328072    652.981518  32.075801        0\n",
       "3  72845.447846    617.653161  36.920385        1\n",
       "4  46487.699379    684.911166  21.063853        0"
      ]
     },
     "metadata": {},
     "output_type": "display_data"
    },
    {
     "name": "stdout",
     "output_type": "stream",
     "text": [
      "Confusion Matrix:\n",
      "[[166  65]\n",
      " [ 45  24]]\n",
      "              precision    recall  f1-score   support\n",
      "\n",
      "           0       0.79      0.72      0.75       231\n",
      "           1       0.27      0.35      0.30        69\n",
      "\n",
      "    accuracy                           0.63       300\n",
      "   macro avg       0.53      0.53      0.53       300\n",
      "weighted avg       0.67      0.63      0.65       300\n",
      "\n"
     ]
    },
    {
     "data": {
      "image/png": "[encoded data removed]",
      "text/plain": [
       "<Figure size 640x480 with 2 Axes>"
      ]
     },
     "metadata": {},
     "output_type": "display_data"
    }
   ],
   "source": [
    "import numpy as np\n",
    "import pandas as pd\n",
    "from sklearn.preprocessing import StandardScaler\n",
    "from sklearn.ensemble import RandomForestClassifier\n",
    "from sklearn.model_selection import train_test_split\n",
    "\n",
    "from imblearn.over_sampling import SMOTE\n",
    "\n",
    "#. Metrics\n",
    "from sklearn.metrics import confusion_matrix\n",
    "from sklearn.metrics import classification_report\n",
    "from sklearn.metrics import ConfusionMatrixDisplay\n",
    "\n",
    "#. Generate dummy data\n",
    "np.random.seed(42)\n",
    "num_samples = 1000\n",
    "\n",
    "data = pd.DataFrame({\n",
    "    'income': np.random.normal(50000, 15000, num_samples).clip(20000, 100000),\n",
    "    'credit_score': np.random.normal(650, 50, num_samples).clip(300, 850),\n",
    "    'age': np.random.normal(40, 10, num_samples).clip(18, 75),\n",
    "    'default': np.random.choice([0, 1], size=num_samples, p=[0.75, 0.25]) \n",
    "})\n",
    "\n",
    "#. Display a few rows\n",
    "display(data.head())\n",
    "\n",
    "#. Split data\n",
    "features = [\"income\", \"credit_score\", \"age\"]\n",
    "X = data[features]\n",
    "y = data[\"default\"]\n",
    "\n",
    "X_train, X_test, y_train, y_test = train_test_split(\n",
    "    X, y, test_size=0.3, random_state=42)\n",
    "\n",
    "#. Handle imbalance by oversampling \n",
    "smote = SMOTE(random_state=42)\n",
    "x_train_balanced, y_train_balanced = smote.fit_resample(X_train, y_train)\n",
    "\n",
    "#. Build model\n",
    "rf_model = RandomForestClassifier(\n",
    "    class_weight=\"balanced\", n_estimators=1000, random_state=42)\n",
    "rf_model.fit(x_train_balanced, y_train_balanced)\n",
    "\n",
    "#. Predict default\n",
    "y_pred = rf_model.predict(X_test)\n",
    "\n",
    "#. Evaluate prediction\n",
    "cm_eval = confusion_matrix(y_test, y_pred)\n",
    "cmd_eval = ConfusionMatrixDisplay(\n",
    "    confusion_matrix=cm_eval, display_labels=[\"No Default\", \"Default\"])\n",
    "clf_report = classification_report(y_test, y_pred)\n",
    "\n",
    "#. Display results\n",
    "print(\"Confusion Matrix:\")\n",
    "print(cm_eval)\n",
    "\n",
    "cmd_eval.plot()\n",
    "\n",
    "print(clf_report)"
   ]
  },
  {
   "cell_type": "markdown",
   "id": "1cf51536-b990-40cd-978d-c5f4180ef258",
   "metadata": {},
   "source": [
    "**REMARKS**:\n",
    "- The model doesn't do a good job, even though we oversampling the minority class - handling imbalance problem. However, the purpose of this notebook is to present the application of **confusion matrix**.\n",
    "- Based on the **confusion matrix**, we have many false-negatives (FN), defaulters missed by the model, and false-positives (FP), Non-defaulters incorrectly flagged as defaulters.\n",
    "- From the classificationreport, we clearly see that the model has problems in detecting defaults."
   ]
  }
 ],
 "metadata": {
  "kernelspec": {
   "display_name": "Python [conda env:lab]",
   "language": "python",
   "name": "conda-env-lab-py"
  },
  "language_info": {
   "codemirror_mode": {
    "name": "ipython",
    "version": 3
   },
   "file_extension": ".py",
   "mimetype": "text/x-python",
   "name": "python",
   "nbconvert_exporter": "python",
   "pygments_lexer": "ipython3",
   "version": "3.12.8"
  }
 },
 "nbformat": 4,
 "nbformat_minor": 5
}
