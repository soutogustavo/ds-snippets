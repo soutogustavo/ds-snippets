{
 "cells": [
  {
   "cell_type": "markdown",
   "id": "90bdd4f4-ba6d-4ebf-b61f-87093cccc688",
   "metadata": {},
   "source": [
    "# Common Data Structures with Python for Data Science\n",
    "\n",
    "In this notebook, I want to list the most common data structures used in the Data Science. <br>"
   ]
  },
  {
   "cell_type": "markdown",
   "id": "35d44a24-7d18-4096-9af2-fd391fb65d85",
   "metadata": {},
   "source": [
    "## Array"
   ]
  },
  {
   "cell_type": "code",
   "execution_count": 61,
   "id": "740ff7ff-95dc-4903-bf97-566a9ef9a55d",
   "metadata": {},
   "outputs": [
    {
     "name": "stdout",
     "output_type": "stream",
     "text": [
      "[Array] Prices: [25.2, 6.99, 9.79, 11.25]\n",
      "Search result: False\n"
     ]
    }
   ],
   "source": [
    "prices = [25.2, 6.99, 9.79, 11.25]\n",
    "\n",
    "# Insert element: O(1), but O(n) if it's beyond array size\n",
    "prices.append(21.10)\n",
    "\n",
    "# Insert at i-th position: O(n)\n",
    "prices.insert(1, -2)\n",
    "\n",
    "# Delete: 0(n)\n",
    "prices.remove(-2)\n",
    "\n",
    "# Delete the last element in the array: O(1) \n",
    "prices.pop()\n",
    "\n",
    "# Search element: O(n)\n",
    "res_search = -2 in prices\n",
    "\n",
    "print(f\"[Array] Prices: {prices}\")\n",
    "print(f\"Search result: {res_search}\")"
   ]
  },
  {
   "cell_type": "markdown",
   "id": "8ec26fa7-fd52-4a8c-97d2-e64cf3e4e33b",
   "metadata": {},
   "source": [
    "## Dictionary | Hashmap"
   ]
  },
  {
   "cell_type": "code",
   "execution_count": 47,
   "id": "77793521-b152-4ffd-bd4b-5949c7a81357",
   "metadata": {},
   "outputs": [
    {
     "name": "stdout",
     "output_type": "stream",
     "text": [
      "[Dict/Hashmap] Scores: {'Dean': 80, 'Sabrina': 92, 'Ana': 99, 'Paul': 79}\n",
      "Sabrina's score: 92\n"
     ]
    }
   ],
   "source": [
    "# Data: Dictionary/Hashmap\n",
    "scores = {\"Dean\": 80, \"Sabrina\": 92, \"Carlos\":77, \"Ana\": 99}\n",
    "\n",
    "# Insert element: O(1)\n",
    "scores[\"Paul\"] = 79\n",
    "\n",
    "# Access element: O(1)\n",
    "sabrina_score = scores[\"Sabrina\"]\n",
    "\n",
    "# Delete element: O(1)\n",
    "del scores[\"Carlos\"]\n",
    "\n",
    "print(f\"[Dict/Hashmap] Scores: {scores}\")\n",
    "print(f\"Sabrina's score: {sabrina_score}\")"
   ]
  },
  {
   "cell_type": "markdown",
   "id": "77fd42d7-1c65-450b-a42b-1b999f8de077",
   "metadata": {},
   "source": [
    "### Counter\n",
    "\n",
    "This is a subclass of `dict` for counting hashable objects efficiently."
   ]
  },
  {
   "cell_type": "code",
   "execution_count": 68,
   "id": "bb0c3b2e-3c8e-481a-8272-f27edb0fd203",
   "metadata": {},
   "outputs": [
    {
     "name": "stdout",
     "output_type": "stream",
     "text": [
      "[Hashmap] Current Counters: Counter({'normal': 3, 'anomaly': 2})\n",
      "Num. anomalies: 2\n",
      "Most common element: [('normal', 4)]\n",
      "[Hashmap] Final Counters: Counter({'normal': 4, 'anomaly': 1})\n"
     ]
    }
   ],
   "source": [
    "from collections import Counter\n",
    "\n",
    "detections = [\"anomaly\", \"normal\", \"anomaly\", \"normal\", \"normal\"]\n",
    "detect_counts = Counter(detections)\n",
    "print(f\"[Hashmap] Current Counters: {detect_counts}\")\n",
    "\n",
    "# Access element: O(1)\n",
    "num_anomalies = detect_counts[\"anomaly\"]\n",
    "print(f\"Num. anomalies: {num_anomalies}\")\n",
    "\n",
    "# Insert / Update: O(k), where k = num. of new elements\n",
    "detect_counts.update([\"normal\"])\n",
    "\n",
    "# Most common elements: O(n log k), top-k elements\n",
    "most_common = detect_counts.most_common(1)\n",
    "print(f\"Most common element: {most_common}\")\n",
    "\n",
    "# Subtract/remove element(s): O(k), where k is the number of elemets to remove\n",
    "detect_counts.subtract([\"anomaly\"])\n",
    "\n",
    "print(f\"[Hashmap] Final Counters: {detect_counts}\")"
   ]
  },
  {
   "cell_type": "markdown",
   "id": "0eb5883b-70fb-47db-afbe-1c8bd9648c0c",
   "metadata": {},
   "source": [
    "### Defaultdict\n",
    "\n",
    "This is a subclass of `dict` that automatically initializes missing keys with a **default value**. <br>\n",
    "Also, it uses a **hash table** internally, just like `dict`.\n",
    "\n",
    "In summary, it groups data by category without key checks."
   ]
  },
  {
   "cell_type": "code",
   "execution_count": 113,
   "id": "96878af2-9ad6-4467-9c98-c980df21e098",
   "metadata": {},
   "outputs": [
    {
     "name": "stdout",
     "output_type": "stream",
     "text": [
      "[Hashmap] Errors: defaultdict(<class 'int'>, {'hydraulic': 33, 'cabin': 52, 'engine': 77, 'tire': 0})\n",
      "Tire errors: 0\n"
     ]
    }
   ],
   "source": [
    "import random\n",
    "from collections import defaultdict\n",
    "\n",
    "# Initialization: O(1)\n",
    "error_code = defaultdict(int)\n",
    "\n",
    "for _ in range(20):\n",
    "    origin = random.choice([\"engine\",\"cabin\",\"hydraulic\"])\n",
    "    ecode = random.randint(1,100)\n",
    "   \n",
    "    # Insert: O(1)\n",
    "    error_code[origin] = ecode\n",
    "\n",
    "# Access (non-existing key): O(1)\n",
    "tire_errors = error_code[\"tire\"]\n",
    "\n",
    "# [!] Iterating over items: O(n)\n",
    "\n",
    "print(f\"[Hashmap] Errors: {error_code}\")\n",
    "print(f\"Tire errors: {tire_errors}\")"
   ]
  },
  {
   "cell_type": "markdown",
   "id": "a55c676a-f66d-4f7d-9004-7b9716d632d3",
   "metadata": {},
   "source": [
    "## Set"
   ]
  },
  {
   "cell_type": "code",
   "execution_count": 57,
   "id": "ac119a0d-f7fc-4c71-96bb-71990aefc121",
   "metadata": {},
   "outputs": [
    {
     "name": "stdout",
     "output_type": "stream",
     "text": [
      "[Set] Mac Addresses: {'3E:4F:5A:6B:7C:8D', '00:1A:2B:3C:4D:5E', 'A1-B2-C3-D4-E5-F6', 'FC:12:34:56:78:9A', '9A:8B:7C:6D:5E:4F', '54:2A:9F:8E:12:30'}\n",
      "Search result: True\n"
     ]
    }
   ],
   "source": [
    "# Data: Set\n",
    "mac_addresses = {\"00:1A:2B:3C:4D:5E\", \"A1-B2-C3-D4-E5-F6\", \"54:2A:9F:8E:12:30\", \n",
    "                 \"D7-8C-1B-6A-9E-4F\", \"3E:4F:5A:6B:7C:8D\", \"9A:8B:7C:6D:5E:4F\"}\n",
    "\n",
    "# Insert element: O(1)\n",
    "mac_addresses.add(\"FC:12:34:56:78:9A\")\n",
    "\n",
    "# Delete element: O(1)\n",
    "mac_addresses.remove(\"D7-8C-1B-6A-9E-4F\")\n",
    "\n",
    "# Search: O(1)\n",
    "search_mac = \"A1-B2-C3-D4-E5-F6\" in mac_addresses\n",
    "\n",
    "print(f\"[Set] Mac Addresses: {mac_addresses}\")\n",
    "print(f\"Search result: {search_mac}\")"
   ]
  },
  {
   "cell_type": "markdown",
   "id": "f5f24f7e-bb6b-4b13-bbac-6b8242ad6f49",
   "metadata": {},
   "source": [
    "## Heap / Priority Queue"
   ]
  },
  {
   "cell_type": "code",
   "execution_count": 117,
   "id": "a2aa803e-c830-4971-9449-61bf41945a9e",
   "metadata": {},
   "outputs": [],
   "source": [
    "import heapq"
   ]
  },
  {
   "cell_type": "markdown",
   "id": "b4628679-0ca9-4763-a1f7-0f714a838fc5",
   "metadata": {},
   "source": [
    "### Min-Heap"
   ]
  },
  {
   "cell_type": "code",
   "execution_count": 119,
   "id": "7baccec4-8088-494f-97f0-dfb899923124",
   "metadata": {},
   "outputs": [
    {
     "name": "stdout",
     "output_type": "stream",
     "text": [
      "Current min. element: 1.1\n",
      "Min value: 1.1\n",
      "[Heap] Schedules: [3.2, 15.3, 12.1, 21.8]\n",
      "Two smallest schedules: [1.1, 3.2]\n",
      "Two largest schedules: [21.8, 15.3]\n"
     ]
    }
   ],
   "source": [
    "# Data\n",
    "schedules = [12.1, 15.3, 3.2, 21.8]\n",
    "\n",
    "# Builds the heap: O(n)\n",
    "heapq.heapify(schedules)\n",
    "\n",
    "# Insert: O(log n)\n",
    "heapq.heappush(schedules, 1.1)\n",
    "\n",
    "# Pick top/min: O(1)\n",
    "min_element = schedules[0]\n",
    "print(f\"Current min. element: {min_element}\")\n",
    "\n",
    "# Search k largest/smallest elements in n elements: O(n log k)\n",
    "smallest_2 = heapq.nsmallest(2, schedules)\n",
    "largest_2 = heapq.nlargest(2, schedules)\n",
    "\n",
    "# Min value: O(log n)\n",
    "min_val = heapq.heappop(schedules)\n",
    "print(f\"Min value: {min_val}\")\n",
    "\n",
    "# [!] Operations like heap.heapreplace and heappop are O(log n)\n",
    "\n",
    "print(f\"[Heap] Schedules: {schedules}\")\n",
    "print(f\"Two smallest schedules: {smallest_2}\")\n",
    "print(f\"Two largest schedules: {largest_2}\")"
   ]
  },
  {
   "cell_type": "markdown",
   "id": "82a3732a-68d7-4b5a-87f5-7756637d8398",
   "metadata": {},
   "source": [
    "### Max-Heap\n",
    "\n",
    "**Python Heap** only supports Min-Heap, but you can simulate a **max-heap** by **inverting the values** (i.e., pushing negative numbers)."
   ]
  },
  {
   "cell_type": "code",
   "execution_count": 141,
   "id": "0411bb58-d1fd-4eec-9c44-afab5b8e39e7",
   "metadata": {},
   "outputs": [
    {
     "name": "stdout",
     "output_type": "stream",
     "text": [
      "Current max. element: 25.3\n",
      "Max value: 25.3\n",
      "[Heap] Schedules: [25.3, 15.3, 21.8, 12.1, -2, 3.2]\n",
      "Two smallest schedules: [25.3, 21.8]\n",
      "Two largest schedules: [-2, 3.2]\n"
     ]
    }
   ],
   "source": [
    "# Data\n",
    "schedules = [12.1, 15.3, 3.2, 21.8, -2]\n",
    "schedules_inv = [-e for e in schedules] # invert signals\n",
    "\n",
    "# Builds the heap: O(n)\n",
    "heapq.heapify(schedules_inv)\n",
    "\n",
    "# Insert: O(log n)\n",
    "heapq.heappush(schedules_inv, -25.3)\n",
    "\n",
    "# Pick top/max: O(1)\n",
    "max_element = -schedules_inv[0] # invert back\n",
    "print(f\"Current max. element: {max_element}\")\n",
    "\n",
    "# Search k largest/smallest elements in n elements: O(n log k)\n",
    "smallest_2 = heapq.nsmallest(2, schedules_inv)\n",
    "largest_2 = heapq.nlargest(2, schedules_inv)\n",
    "\n",
    "# Invert back:\n",
    "smallest_2 = [-val for val in smallest_2]\n",
    "largest_2 = [-val for val in largest_2]\n",
    "schedules_back = [-s for s in schedules_inv]\n",
    "\n",
    "# Max value: O(log n)\n",
    "max_val = -heapq.heappop(schedules_inv)\n",
    "print(f\"Max value: {max_val}\")\n",
    "\n",
    "print(f\"[Heap] Schedules: {schedules_back}\")\n",
    "print(f\"Two smallest schedules: {smallest_2}\")\n",
    "print(f\"Two largest schedules: {largest_2}\")"
   ]
  },
  {
   "cell_type": "markdown",
   "id": "3f9ae733-ec07-48bc-9e7f-c3e8dcce74a8",
   "metadata": {},
   "source": [
    "## Stack\n",
    "\n",
    "*Last-in, First-out (LIFO)*\n",
    "\n",
    "It's possible to use a `list`, but `deque` is better since it guarantees **O(1)** operations (on average)."
   ]
  },
  {
   "cell_type": "code",
   "execution_count": 2,
   "id": "b9ed4a13-4d4a-41de-afae-6bbc79e2052b",
   "metadata": {},
   "outputs": [
    {
     "name": "stdout",
     "output_type": "stream",
     "text": [
      "Current top element: 2 / 2\n",
      "Stack: deque([24, 50])\n",
      "Top element: 22\n"
     ]
    }
   ],
   "source": [
    "from collections import deque\n",
    "\n",
    "stack = deque()\n",
    "\n",
    "# Insert: O(1)\n",
    "stack.append(24)\n",
    "stack.append(50)\n",
    "stack.append(2)\n",
    "\n",
    "# Pick last: O(1)\n",
    "top = stack[-1]\n",
    "last_element = stack.pop()\n",
    "print(f\"Current top element: {top} / {last_element}\")\n",
    "\n",
    "# Insert again:\n",
    "stack.append(22)\n",
    "\n",
    "# Top: O(1)\n",
    "top = stack.pop()\n",
    "\n",
    "print(f\"Stack: {stack}\")\n",
    "print(f\"Top element: {top}\")"
   ]
  },
  {
   "cell_type": "markdown",
   "id": "9e9870d6-7e79-48ca-b23b-ee8099fac29e",
   "metadata": {},
   "source": [
    "## Queue\n",
    "\n",
    "*First-in, First-out (FIFO)*\n",
    "\n",
    "Elements can be only added in the back, and only removed in the front."
   ]
  },
  {
   "cell_type": "markdown",
   "id": "da66f73d-aca2-4295-9f03-9fd7481f0450",
   "metadata": {},
   "source": [
    "### Operations"
   ]
  },
  {
   "cell_type": "code",
   "execution_count": 121,
   "id": "c5c99f44-b3e9-49ef-95da-6fe86be6fe58",
   "metadata": {},
   "outputs": [
    {
     "name": "stdout",
     "output_type": "stream",
     "text": [
      "[Queue] Sensor Op.: deque([4.5, 5.1, 5.7, 6.3])\n",
      "Is queue empty? - False\n",
      "First element: 0\n"
     ]
    }
   ],
   "source": [
    "from collections import deque\n",
    "\n",
    "# Initialize a queue\n",
    "sensor_op = deque()\n",
    "\n",
    "# Insert element: O(1)\n",
    "sensor_op.append(0)\n",
    "sensor_op.append(4.5)\n",
    "sensor_op.append(5.1)\n",
    "sensor_op.append(5.7)\n",
    "sensor_op.append(6.3)\n",
    "\n",
    "# Check if queue is empty: O(1)\n",
    "is_empty = len(sensor_op) == 0\n",
    "\n",
    "# Access 1st element (left) / Dequeue\n",
    "#print(sensor_op[0]) # O(1)\n",
    "first_element = sensor_op.popleft()\n",
    "\n",
    "# [!] Search through all queue: O(n)\n",
    "\n",
    "print(f\"[Queue] Sensor Op.: {sensor_op}\")\n",
    "print(f\"Is queue empty? - {is_empty}\")\n",
    "print(f\"First element: {first_element}\")"
   ]
  },
  {
   "cell_type": "markdown",
   "id": "89d147b6-9e46-46fe-9eaa-612043d55df4",
   "metadata": {},
   "source": [
    "### Sliding Windown\n",
    "\n",
    "It's possible to set a maximum length of a queue and process the data within this queue. Thus, making a sliding window."
   ]
  },
  {
   "cell_type": "code",
   "execution_count": 42,
   "id": "32e5531f-fb64-42ba-9b06-2ffd10345b02",
   "metadata": {},
   "outputs": [
    {
     "name": "stdout",
     "output_type": "stream",
     "text": [
      "[0]\n",
      "[0, 1]\n",
      "[0, 1, 2]\n",
      "[0, 1, 2, 3]\n",
      "[0, 1, 2, 3, 4]\n",
      "[1, 2, 3, 4, 5]\n",
      "[2, 3, 4, 5, 6]\n",
      "[3, 4, 5, 6, 7]\n",
      "[4, 5, 6, 7, 8]\n",
      "[5, 6, 7, 8, 9]\n"
     ]
    }
   ],
   "source": [
    "from collections import deque\n",
    "\n",
    "maxlen = 5\n",
    "window = deque(maxlen=maxlen)\n",
    "\n",
    "for i in range(10):\n",
    "    window.append(i)\n",
    "    print(list(window))\n"
   ]
  },
  {
   "cell_type": "markdown",
   "id": "f9da8aed-e327-4c0c-b303-5b3eb5e9bd12",
   "metadata": {},
   "source": [
    "___"
   ]
  }
 ],
 "metadata": {
  "kernelspec": {
   "display_name": "exploring",
   "language": "python",
   "name": "exploring"
  },
  "language_info": {
   "codemirror_mode": {
    "name": "ipython",
    "version": 3
   },
   "file_extension": ".py",
   "mimetype": "text/x-python",
   "name": "python",
   "nbconvert_exporter": "python",
   "pygments_lexer": "ipython3",
   "version": "3.12.2"
  }
 },
 "nbformat": 4,
 "nbformat_minor": 5
}
