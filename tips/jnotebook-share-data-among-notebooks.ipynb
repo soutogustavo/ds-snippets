{
 "cells": [
  {
   "cell_type": "markdown",
   "id": "98b59c2d-e487-457f-90a5-4f4dab07f9ad",
   "metadata": {},
   "source": [
    "# Jupyter Notebook: Share datasets\n",
    "\n",
    "In this notebook, I show how to **share datasets** among notebooks that use the same **kernel**.\n",
    "\n",
    "## Table-of-Content\n",
    "\n",
    "* [Load Dataset](#load-dataset)\n",
    "* [Store Dataset](#store-dataset)\n",
    "* [Read Dataset](#read-dataset)"
   ]
  },
  {
   "cell_type": "code",
   "execution_count": 1,
   "id": "c641c13a-138c-45b2-aac8-e9f89a31c764",
   "metadata": {
    "tags": []
   },
   "outputs": [],
   "source": [
    "import seaborn as sns"
   ]
  },
  {
   "cell_type": "markdown",
   "id": "bbf82110-df9a-40aa-a256-9b15eaadd026",
   "metadata": {},
   "source": [
    "## Load Dataset <a class=\"anchor\" id=\"load-dataset\"></a>\n",
    "\n",
    "Load **titanic dataset**."
   ]
  },
  {
   "cell_type": "code",
   "execution_count": 3,
   "id": "2c573984-5b58-4991-9527-dfd6cf5f9eaf",
   "metadata": {
    "tags": []
   },
   "outputs": [
    {
     "data": {
      "text/html": [
       "<div>\n",
       "<style scoped>\n",
       "    .dataframe tbody tr th:only-of-type {\n",
       "        vertical-align: middle;\n",
       "    }\n",
       "\n",
       "    .dataframe tbody tr th {\n",
       "        vertical-align: top;\n",
       "    }\n",
       "\n",
       "    .dataframe thead th {\n",
       "        text-align: right;\n",
       "    }\n",
       "</style>\n",
       "<table border=\"1\" class=\"dataframe\">\n",
       "  <thead>\n",
       "    <tr style=\"text-align: right;\">\n",
       "      <th></th>\n",
       "      <th>survived</th>\n",
       "      <th>pclass</th>\n",
       "      <th>sex</th>\n",
       "      <th>age</th>\n",
       "      <th>sibsp</th>\n",
       "      <th>parch</th>\n",
       "      <th>fare</th>\n",
       "      <th>embarked</th>\n",
       "      <th>class</th>\n",
       "      <th>who</th>\n",
       "      <th>adult_male</th>\n",
       "      <th>deck</th>\n",
       "      <th>embark_town</th>\n",
       "      <th>alive</th>\n",
       "      <th>alone</th>\n",
       "    </tr>\n",
       "  </thead>\n",
       "  <tbody>\n",
       "    <tr>\n",
       "      <th>0</th>\n",
       "      <td>0</td>\n",
       "      <td>3</td>\n",
       "      <td>male</td>\n",
       "      <td>22.0</td>\n",
       "      <td>1</td>\n",
       "      <td>0</td>\n",
       "      <td>7.2500</td>\n",
       "      <td>S</td>\n",
       "      <td>Third</td>\n",
       "      <td>man</td>\n",
       "      <td>True</td>\n",
       "      <td>NaN</td>\n",
       "      <td>Southampton</td>\n",
       "      <td>no</td>\n",
       "      <td>False</td>\n",
       "    </tr>\n",
       "    <tr>\n",
       "      <th>1</th>\n",
       "      <td>1</td>\n",
       "      <td>1</td>\n",
       "      <td>female</td>\n",
       "      <td>38.0</td>\n",
       "      <td>1</td>\n",
       "      <td>0</td>\n",
       "      <td>71.2833</td>\n",
       "      <td>C</td>\n",
       "      <td>First</td>\n",
       "      <td>woman</td>\n",
       "      <td>False</td>\n",
       "      <td>C</td>\n",
       "      <td>Cherbourg</td>\n",
       "      <td>yes</td>\n",
       "      <td>False</td>\n",
       "    </tr>\n",
       "    <tr>\n",
       "      <th>2</th>\n",
       "      <td>1</td>\n",
       "      <td>3</td>\n",
       "      <td>female</td>\n",
       "      <td>26.0</td>\n",
       "      <td>0</td>\n",
       "      <td>0</td>\n",
       "      <td>7.9250</td>\n",
       "      <td>S</td>\n",
       "      <td>Third</td>\n",
       "      <td>woman</td>\n",
       "      <td>False</td>\n",
       "      <td>NaN</td>\n",
       "      <td>Southampton</td>\n",
       "      <td>yes</td>\n",
       "      <td>True</td>\n",
       "    </tr>\n",
       "    <tr>\n",
       "      <th>3</th>\n",
       "      <td>1</td>\n",
       "      <td>1</td>\n",
       "      <td>female</td>\n",
       "      <td>35.0</td>\n",
       "      <td>1</td>\n",
       "      <td>0</td>\n",
       "      <td>53.1000</td>\n",
       "      <td>S</td>\n",
       "      <td>First</td>\n",
       "      <td>woman</td>\n",
       "      <td>False</td>\n",
       "      <td>C</td>\n",
       "      <td>Southampton</td>\n",
       "      <td>yes</td>\n",
       "      <td>False</td>\n",
       "    </tr>\n",
       "    <tr>\n",
       "      <th>4</th>\n",
       "      <td>0</td>\n",
       "      <td>3</td>\n",
       "      <td>male</td>\n",
       "      <td>35.0</td>\n",
       "      <td>0</td>\n",
       "      <td>0</td>\n",
       "      <td>8.0500</td>\n",
       "      <td>S</td>\n",
       "      <td>Third</td>\n",
       "      <td>man</td>\n",
       "      <td>True</td>\n",
       "      <td>NaN</td>\n",
       "      <td>Southampton</td>\n",
       "      <td>no</td>\n",
       "      <td>True</td>\n",
       "    </tr>\n",
       "  </tbody>\n",
       "</table>\n",
       "</div>"
      ],
      "text/plain": [
       "   survived  pclass     sex   age  sibsp  parch     fare embarked  class  \\\n",
       "0         0       3    male  22.0      1      0   7.2500        S  Third   \n",
       "1         1       1  female  38.0      1      0  71.2833        C  First   \n",
       "2         1       3  female  26.0      0      0   7.9250        S  Third   \n",
       "3         1       1  female  35.0      1      0  53.1000        S  First   \n",
       "4         0       3    male  35.0      0      0   8.0500        S  Third   \n",
       "\n",
       "     who  adult_male deck  embark_town alive  alone  \n",
       "0    man        True  NaN  Southampton    no  False  \n",
       "1  woman       False    C    Cherbourg   yes  False  \n",
       "2  woman       False  NaN  Southampton   yes   True  \n",
       "3  woman       False    C  Southampton   yes  False  \n",
       "4    man        True  NaN  Southampton    no   True  "
      ]
     },
     "execution_count": 3,
     "metadata": {},
     "output_type": "execute_result"
    }
   ],
   "source": [
    "# Load titanic dataset\n",
    "titanic = sns.load_dataset('titanic')\n",
    "titanic.head()"
   ]
  },
  {
   "cell_type": "markdown",
   "id": "e15284f5-7722-4e0b-8a10-7c272bebd6c8",
   "metadata": {},
   "source": [
    "## Store Dataset <a class=\"anchor\" id=\"store-dataset\"></a>\n",
    "\n",
    "Store the dataset so that you can read it from other **Jupyter Notebooks** (i.e. using the same *Kernel*)."
   ]
  },
  {
   "cell_type": "markdown",
   "id": "a8368e24-5365-409e-a2cf-2e86f72ce98d",
   "metadata": {},
   "source": [
    "<div class=\"alert alert-block alert-info\">\n",
    "    <b>Share:</b> Just use the magic command <i><b>%store</b></i> and the name of the variable/dataset.\n",
    "</div>\n",
    "\n",
    "**Example:**\n",
    "```python\n",
    "%store data\n",
    "\n",
    "```"
   ]
  },
  {
   "cell_type": "code",
   "execution_count": 4,
   "id": "545d3524-166e-4737-9e82-f622f4941c31",
   "metadata": {
    "tags": []
   },
   "outputs": [
    {
     "name": "stdout",
     "output_type": "stream",
     "text": [
      "Stored 'titanic' (DataFrame)\n"
     ]
    }
   ],
   "source": [
    "# Store titanic dataset\n",
    "%store titanic"
   ]
  },
  {
   "cell_type": "markdown",
   "id": "c0afcb6e-cedf-42aa-861f-c89dfaa94274",
   "metadata": {},
   "source": [
    "## Read Dataset <a class=\"anchor\" id=\"read-dataset\"></a>\n",
    "\n",
    "Read the dataset from another **Jupyter Notebook**."
   ]
  },
  {
   "cell_type": "markdown",
   "id": "a29b1871-06d6-4028-a06b-e4e1c303d745",
   "metadata": {},
   "source": [
    "<div class=\"alert alert-block alert-info\">\n",
    "    <b>Read:</b> In another <b>Jupyter Notebook</b>, use the magic command <i><b>%store -r</b></i> and the name of the variable/dataset.\n",
    "</div>\n",
    "\n",
    "**Example:**\n",
    "```python\n",
    "%store -r data\n",
    "\n",
    "```"
   ]
  },
  {
   "cell_type": "code",
   "execution_count": 5,
   "id": "fe4e9567-89f7-4929-bd16-8ccc3d768aaf",
   "metadata": {
    "tags": []
   },
   "outputs": [],
   "source": [
    "%store -r titanic"
   ]
  },
  {
   "cell_type": "markdown",
   "id": "1e2e82ee-e3db-4cf4-a139-704226aeb1e3",
   "metadata": {},
   "source": [
    "___"
   ]
  }
 ],
 "metadata": {
  "kernelspec": {
   "display_name": "DScience",
   "language": "python",
   "name": "dscience"
  },
  "language_info": {
   "codemirror_mode": {
    "name": "ipython",
    "version": 3
   },
   "file_extension": ".py",
   "mimetype": "text/x-python",
   "name": "python",
   "nbconvert_exporter": "python",
   "pygments_lexer": "ipython3",
   "version": "3.10.12"
  }
 },
 "nbformat": 4,
 "nbformat_minor": 5
}
